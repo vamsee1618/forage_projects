{
 "cells": [
  {
   "cell_type": "markdown",
   "id": "664b5874",
   "metadata": {},
   "source": [
    "# Analysis of customer churn in PowerCo"
   ]
  },
  {
   "cell_type": "markdown",
   "id": "af6c922b",
   "metadata": {},
   "source": [
    "##### One of the key hypotheses: Exploring is the effect of price changes on customer churn.\n",
    "<br/>\n",
    "<br/>\n",
    "To better understand the contribution of various factors to a customer's possible action, the following data sources could be used:\n",
    "<br/>\n",
    "1. Customer demographics\n",
    "<br/>\n",
    "2. Previous transaction and pricing data\n",
    "<br/>\n",
    "3. Customer feedback\n",
    "<br/>\n",
    "4. PowerCo product and service details\n",
    "<br/>\n",
    "5. Customer complaints and their handling data\n",
    "<br/>\n",
    "6. Competitor pricing and service details.\n",
    "<br/>\n",
    "<br/>\n",
    "To gain more insights into customer churn behavior, we could perform:\n",
    "<br/>\n",
    "1. Price sensitivity analysis: Analyze pricing data over time to identify patterns and trends that may be driving customer churn.\n",
    "<br/>\n",
    "2. Customer segmentation analysis: Segment customers based on their demographics, usage patterns, and other characteristics to identify which groups are most likely to switch providers. By understanding the unique characteristics of each segment, we can develop targeted marketing strategies to retain customers.\n",
    "<br/>\n",
    "3. Service quality analysis: Analyze customer service data, such as call logs and chat transcripts, to identify patterns and trends in customer complaints and service requests. This will help us understand the root causes of customer service issues and develop strategies to improve service quality and customer satisfaction.\n",
    "<br/>\n",
    "4. Competitor analysis: Analyze data on competitor pricing and services to identify how PowerCo's pricing and services compare to those of its competitors. This will help us develop strategies to remain competitive and retain customers."
   ]
  },
  {
   "cell_type": "markdown",
   "id": "388b24f9",
   "metadata": {},
   "source": [
    "### Exploratory Data Analysis"
   ]
  },
  {
   "cell_type": "code",
   "execution_count": 1,
   "id": "481aa140",
   "metadata": {},
   "outputs": [],
   "source": [
    "import pandas as pd\n",
    "import matplotlib.pyplot as plt\n",
    "from scipy.stats import kstest\n",
    "from scipy.stats import ttest_ind\n",
    "from sklearn.metrics import confusion_matrix"
   ]
  },
  {
   "cell_type": "code",
   "execution_count": 11,
   "id": "cc7e451f",
   "metadata": {
    "scrolled": true
   },
   "outputs": [],
   "source": [
    "df_client = pd.read_csv(\"client_data.csv\")\n",
    "df_price = pd.read_csv(\"price_data.csv\")"
   ]
  },
  {
   "cell_type": "code",
   "execution_count": 13,
   "id": "39ea7a2b",
   "metadata": {},
   "outputs": [
    {
     "data": {
      "text/html": [
       "<div>\n",
       "<style scoped>\n",
       "    .dataframe tbody tr th:only-of-type {\n",
       "        vertical-align: middle;\n",
       "    }\n",
       "\n",
       "    .dataframe tbody tr th {\n",
       "        vertical-align: top;\n",
       "    }\n",
       "\n",
       "    .dataframe thead th {\n",
       "        text-align: right;\n",
       "    }\n",
       "</style>\n",
       "<table border=\"1\" class=\"dataframe\">\n",
       "  <thead>\n",
       "    <tr style=\"text-align: right;\">\n",
       "      <th></th>\n",
       "      <th>cons_12m</th>\n",
       "      <th>cons_gas_12m</th>\n",
       "      <th>cons_last_month</th>\n",
       "      <th>forecast_cons_12m</th>\n",
       "      <th>forecast_cons_year</th>\n",
       "      <th>forecast_discount_energy</th>\n",
       "      <th>forecast_meter_rent_12m</th>\n",
       "      <th>forecast_price_energy_off_peak</th>\n",
       "      <th>forecast_price_energy_peak</th>\n",
       "      <th>forecast_price_pow_off_peak</th>\n",
       "      <th>imp_cons</th>\n",
       "      <th>margin_gross_pow_ele</th>\n",
       "      <th>margin_net_pow_ele</th>\n",
       "      <th>nb_prod_act</th>\n",
       "      <th>net_margin</th>\n",
       "      <th>num_years_antig</th>\n",
       "      <th>pow_max</th>\n",
       "      <th>churn</th>\n",
       "    </tr>\n",
       "  </thead>\n",
       "  <tbody>\n",
       "    <tr>\n",
       "      <th>count</th>\n",
       "      <td>1.460600e+04</td>\n",
       "      <td>1.460600e+04</td>\n",
       "      <td>14606.000000</td>\n",
       "      <td>14606.000000</td>\n",
       "      <td>14606.000000</td>\n",
       "      <td>14606.000000</td>\n",
       "      <td>14606.000000</td>\n",
       "      <td>14606.000000</td>\n",
       "      <td>14606.000000</td>\n",
       "      <td>14606.000000</td>\n",
       "      <td>14606.000000</td>\n",
       "      <td>14606.000000</td>\n",
       "      <td>14606.000000</td>\n",
       "      <td>14606.000000</td>\n",
       "      <td>14606.000000</td>\n",
       "      <td>14606.000000</td>\n",
       "      <td>14606.000000</td>\n",
       "      <td>14606.000000</td>\n",
       "    </tr>\n",
       "    <tr>\n",
       "      <th>mean</th>\n",
       "      <td>1.592203e+05</td>\n",
       "      <td>2.809238e+04</td>\n",
       "      <td>16090.269752</td>\n",
       "      <td>1868.614880</td>\n",
       "      <td>1399.762906</td>\n",
       "      <td>0.966726</td>\n",
       "      <td>63.086871</td>\n",
       "      <td>0.137283</td>\n",
       "      <td>0.050491</td>\n",
       "      <td>43.130056</td>\n",
       "      <td>152.786896</td>\n",
       "      <td>24.565121</td>\n",
       "      <td>24.562517</td>\n",
       "      <td>1.292346</td>\n",
       "      <td>189.264522</td>\n",
       "      <td>4.997809</td>\n",
       "      <td>18.135136</td>\n",
       "      <td>0.097152</td>\n",
       "    </tr>\n",
       "    <tr>\n",
       "      <th>std</th>\n",
       "      <td>5.734653e+05</td>\n",
       "      <td>1.629731e+05</td>\n",
       "      <td>64364.196422</td>\n",
       "      <td>2387.571531</td>\n",
       "      <td>3247.786255</td>\n",
       "      <td>5.108289</td>\n",
       "      <td>66.165783</td>\n",
       "      <td>0.024623</td>\n",
       "      <td>0.049037</td>\n",
       "      <td>4.485988</td>\n",
       "      <td>341.369366</td>\n",
       "      <td>20.231172</td>\n",
       "      <td>20.230280</td>\n",
       "      <td>0.709774</td>\n",
       "      <td>311.798130</td>\n",
       "      <td>1.611749</td>\n",
       "      <td>13.534743</td>\n",
       "      <td>0.296175</td>\n",
       "    </tr>\n",
       "    <tr>\n",
       "      <th>min</th>\n",
       "      <td>0.000000e+00</td>\n",
       "      <td>0.000000e+00</td>\n",
       "      <td>0.000000</td>\n",
       "      <td>0.000000</td>\n",
       "      <td>0.000000</td>\n",
       "      <td>0.000000</td>\n",
       "      <td>0.000000</td>\n",
       "      <td>0.000000</td>\n",
       "      <td>0.000000</td>\n",
       "      <td>0.000000</td>\n",
       "      <td>0.000000</td>\n",
       "      <td>0.000000</td>\n",
       "      <td>0.000000</td>\n",
       "      <td>1.000000</td>\n",
       "      <td>0.000000</td>\n",
       "      <td>1.000000</td>\n",
       "      <td>3.300000</td>\n",
       "      <td>0.000000</td>\n",
       "    </tr>\n",
       "    <tr>\n",
       "      <th>25%</th>\n",
       "      <td>5.674750e+03</td>\n",
       "      <td>0.000000e+00</td>\n",
       "      <td>0.000000</td>\n",
       "      <td>494.995000</td>\n",
       "      <td>0.000000</td>\n",
       "      <td>0.000000</td>\n",
       "      <td>16.180000</td>\n",
       "      <td>0.116340</td>\n",
       "      <td>0.000000</td>\n",
       "      <td>40.606701</td>\n",
       "      <td>0.000000</td>\n",
       "      <td>14.280000</td>\n",
       "      <td>14.280000</td>\n",
       "      <td>1.000000</td>\n",
       "      <td>50.712500</td>\n",
       "      <td>4.000000</td>\n",
       "      <td>12.500000</td>\n",
       "      <td>0.000000</td>\n",
       "    </tr>\n",
       "    <tr>\n",
       "      <th>50%</th>\n",
       "      <td>1.411550e+04</td>\n",
       "      <td>0.000000e+00</td>\n",
       "      <td>792.500000</td>\n",
       "      <td>1112.875000</td>\n",
       "      <td>314.000000</td>\n",
       "      <td>0.000000</td>\n",
       "      <td>18.795000</td>\n",
       "      <td>0.143166</td>\n",
       "      <td>0.084138</td>\n",
       "      <td>44.311378</td>\n",
       "      <td>37.395000</td>\n",
       "      <td>21.640000</td>\n",
       "      <td>21.640000</td>\n",
       "      <td>1.000000</td>\n",
       "      <td>112.530000</td>\n",
       "      <td>5.000000</td>\n",
       "      <td>13.856000</td>\n",
       "      <td>0.000000</td>\n",
       "    </tr>\n",
       "    <tr>\n",
       "      <th>75%</th>\n",
       "      <td>4.076375e+04</td>\n",
       "      <td>0.000000e+00</td>\n",
       "      <td>3383.000000</td>\n",
       "      <td>2401.790000</td>\n",
       "      <td>1745.750000</td>\n",
       "      <td>0.000000</td>\n",
       "      <td>131.030000</td>\n",
       "      <td>0.146348</td>\n",
       "      <td>0.098837</td>\n",
       "      <td>44.311378</td>\n",
       "      <td>193.980000</td>\n",
       "      <td>29.880000</td>\n",
       "      <td>29.880000</td>\n",
       "      <td>1.000000</td>\n",
       "      <td>243.097500</td>\n",
       "      <td>6.000000</td>\n",
       "      <td>19.172500</td>\n",
       "      <td>0.000000</td>\n",
       "    </tr>\n",
       "    <tr>\n",
       "      <th>max</th>\n",
       "      <td>6.207104e+06</td>\n",
       "      <td>4.154590e+06</td>\n",
       "      <td>771203.000000</td>\n",
       "      <td>82902.830000</td>\n",
       "      <td>175375.000000</td>\n",
       "      <td>30.000000</td>\n",
       "      <td>599.310000</td>\n",
       "      <td>0.273963</td>\n",
       "      <td>0.195975</td>\n",
       "      <td>59.266378</td>\n",
       "      <td>15042.790000</td>\n",
       "      <td>374.640000</td>\n",
       "      <td>374.640000</td>\n",
       "      <td>32.000000</td>\n",
       "      <td>24570.650000</td>\n",
       "      <td>13.000000</td>\n",
       "      <td>320.000000</td>\n",
       "      <td>1.000000</td>\n",
       "    </tr>\n",
       "  </tbody>\n",
       "</table>\n",
       "</div>"
      ],
      "text/plain": [
       "           cons_12m  cons_gas_12m  cons_last_month  forecast_cons_12m  \\\n",
       "count  1.460600e+04  1.460600e+04     14606.000000       14606.000000   \n",
       "mean   1.592203e+05  2.809238e+04     16090.269752        1868.614880   \n",
       "std    5.734653e+05  1.629731e+05     64364.196422        2387.571531   \n",
       "min    0.000000e+00  0.000000e+00         0.000000           0.000000   \n",
       "25%    5.674750e+03  0.000000e+00         0.000000         494.995000   \n",
       "50%    1.411550e+04  0.000000e+00       792.500000        1112.875000   \n",
       "75%    4.076375e+04  0.000000e+00      3383.000000        2401.790000   \n",
       "max    6.207104e+06  4.154590e+06    771203.000000       82902.830000   \n",
       "\n",
       "       forecast_cons_year  forecast_discount_energy  forecast_meter_rent_12m  \\\n",
       "count        14606.000000              14606.000000             14606.000000   \n",
       "mean          1399.762906                  0.966726                63.086871   \n",
       "std           3247.786255                  5.108289                66.165783   \n",
       "min              0.000000                  0.000000                 0.000000   \n",
       "25%              0.000000                  0.000000                16.180000   \n",
       "50%            314.000000                  0.000000                18.795000   \n",
       "75%           1745.750000                  0.000000               131.030000   \n",
       "max         175375.000000                 30.000000               599.310000   \n",
       "\n",
       "       forecast_price_energy_off_peak  forecast_price_energy_peak  \\\n",
       "count                    14606.000000                14606.000000   \n",
       "mean                         0.137283                    0.050491   \n",
       "std                          0.024623                    0.049037   \n",
       "min                          0.000000                    0.000000   \n",
       "25%                          0.116340                    0.000000   \n",
       "50%                          0.143166                    0.084138   \n",
       "75%                          0.146348                    0.098837   \n",
       "max                          0.273963                    0.195975   \n",
       "\n",
       "       forecast_price_pow_off_peak      imp_cons  margin_gross_pow_ele  \\\n",
       "count                 14606.000000  14606.000000          14606.000000   \n",
       "mean                     43.130056    152.786896             24.565121   \n",
       "std                       4.485988    341.369366             20.231172   \n",
       "min                       0.000000      0.000000              0.000000   \n",
       "25%                      40.606701      0.000000             14.280000   \n",
       "50%                      44.311378     37.395000             21.640000   \n",
       "75%                      44.311378    193.980000             29.880000   \n",
       "max                      59.266378  15042.790000            374.640000   \n",
       "\n",
       "       margin_net_pow_ele   nb_prod_act    net_margin  num_years_antig  \\\n",
       "count        14606.000000  14606.000000  14606.000000     14606.000000   \n",
       "mean            24.562517      1.292346    189.264522         4.997809   \n",
       "std             20.230280      0.709774    311.798130         1.611749   \n",
       "min              0.000000      1.000000      0.000000         1.000000   \n",
       "25%             14.280000      1.000000     50.712500         4.000000   \n",
       "50%             21.640000      1.000000    112.530000         5.000000   \n",
       "75%             29.880000      1.000000    243.097500         6.000000   \n",
       "max            374.640000     32.000000  24570.650000        13.000000   \n",
       "\n",
       "            pow_max         churn  \n",
       "count  14606.000000  14606.000000  \n",
       "mean      18.135136      0.097152  \n",
       "std       13.534743      0.296175  \n",
       "min        3.300000      0.000000  \n",
       "25%       12.500000      0.000000  \n",
       "50%       13.856000      0.000000  \n",
       "75%       19.172500      0.000000  \n",
       "max      320.000000      1.000000  "
      ]
     },
     "execution_count": 13,
     "metadata": {},
     "output_type": "execute_result"
    }
   ],
   "source": [
    "df_client.describe()"
   ]
  },
  {
   "cell_type": "code",
   "execution_count": 23,
   "id": "615c234c",
   "metadata": {},
   "outputs": [
    {
     "data": {
      "text/plain": [
       "0    90.284814\n",
       "1     9.715186\n",
       "Name: churn, dtype: float64"
      ]
     },
     "execution_count": 23,
     "metadata": {},
     "output_type": "execute_result"
    }
   ],
   "source": [
    "df_client['churn'].value_counts()/ len(df_client) * 100"
   ]
  },
  {
   "cell_type": "markdown",
   "id": "183a16f9",
   "metadata": {},
   "source": [
    "##### There is nearly 9.7% of churning in the next 3 months"
   ]
  },
  {
   "cell_type": "code",
   "execution_count": 25,
   "id": "1bd949aa",
   "metadata": {},
   "outputs": [
    {
     "data": {
      "text/plain": [
       "Index(['id', 'channel_sales', 'cons_12m', 'cons_gas_12m', 'cons_last_month',\n",
       "       'date_activ', 'date_end', 'date_modif_prod', 'date_renewal',\n",
       "       'forecast_cons_12m', 'forecast_cons_year', 'forecast_discount_energy',\n",
       "       'forecast_meter_rent_12m', 'forecast_price_energy_off_peak',\n",
       "       'forecast_price_energy_peak', 'forecast_price_pow_off_peak', 'has_gas',\n",
       "       'imp_cons', 'margin_gross_pow_ele', 'margin_net_pow_ele', 'nb_prod_act',\n",
       "       'net_margin', 'num_years_antig', 'origin_up', 'pow_max', 'churn'],\n",
       "      dtype='object')"
      ]
     },
     "execution_count": 25,
     "metadata": {},
     "output_type": "execute_result"
    }
   ],
   "source": [
    "df_client.columns"
   ]
  },
  {
   "cell_type": "code",
   "execution_count": 60,
   "id": "3b9feaf5",
   "metadata": {},
   "outputs": [
    {
     "data": {
      "text/plain": [
       "id                                0\n",
       "channel_sales                     0\n",
       "cons_12m                          0\n",
       "cons_gas_12m                      0\n",
       "cons_last_month                   0\n",
       "date_activ                        0\n",
       "date_end                          0\n",
       "date_modif_prod                   0\n",
       "date_renewal                      0\n",
       "forecast_cons_12m                 0\n",
       "forecast_cons_year                0\n",
       "forecast_discount_energy          0\n",
       "forecast_meter_rent_12m           0\n",
       "forecast_price_energy_off_peak    0\n",
       "forecast_price_energy_peak        0\n",
       "forecast_price_pow_off_peak       0\n",
       "has_gas                           0\n",
       "imp_cons                          0\n",
       "margin_gross_pow_ele              0\n",
       "margin_net_pow_ele                0\n",
       "nb_prod_act                       0\n",
       "net_margin                        0\n",
       "num_years_antig                   0\n",
       "origin_up                         0\n",
       "pow_max                           0\n",
       "churn                             0\n",
       "dtype: int64"
      ]
     },
     "execution_count": 60,
     "metadata": {},
     "output_type": "execute_result"
    }
   ],
   "source": [
    "df_client.isna().sum()"
   ]
  },
  {
   "cell_type": "code",
   "execution_count": 57,
   "id": "7402f5dc",
   "metadata": {},
   "outputs": [
    {
     "data": {
      "image/png": "[encoded data removed]",
      "text/plain": [
       "<Figure size 432x288 with 1 Axes>"
      ]
     },
     "metadata": {
      "needs_background": "light"
     },
     "output_type": "display_data"
    }
   ],
   "source": [
    "fig, ax = plt.subplots(figsize=(6, 4))\n",
    "df_client.groupby(['channel_sales', 'churn'])['id'].count().unstack().plot(kind='bar', ax=ax,stacked=True)\n",
    "\n",
    "ax.set_xlabel('Channel Sales and Churn')\n",
    "ax.set_ylabel('Count')\n",
    "ax.set_title('Counts of Channel Sales and Churn')\n",
    "\n",
    "plt.show()"
   ]
  },
  {
   "cell_type": "code",
   "execution_count": 54,
   "id": "872fe298",
   "metadata": {},
   "outputs": [
    {
     "data": {
      "text/html": [
       "<div>\n",
       "<style scoped>\n",
       "    .dataframe tbody tr th:only-of-type {\n",
       "        vertical-align: middle;\n",
       "    }\n",
       "\n",
       "    .dataframe tbody tr th {\n",
       "        vertical-align: top;\n",
       "    }\n",
       "\n",
       "    .dataframe thead th {\n",
       "        text-align: right;\n",
       "    }\n",
       "</style>\n",
       "<table border=\"1\" class=\"dataframe\">\n",
       "  <thead>\n",
       "    <tr style=\"text-align: right;\">\n",
       "      <th></th>\n",
       "      <th>cons_12m</th>\n",
       "      <th>cons_gas_12m</th>\n",
       "      <th>cons_last_month</th>\n",
       "      <th>pow_max</th>\n",
       "    </tr>\n",
       "    <tr>\n",
       "      <th>churn</th>\n",
       "      <th></th>\n",
       "      <th></th>\n",
       "      <th></th>\n",
       "      <th></th>\n",
       "    </tr>\n",
       "  </thead>\n",
       "  <tbody>\n",
       "    <tr>\n",
       "      <th>0</th>\n",
       "      <td>167867.266550</td>\n",
       "      <td>30121.497308</td>\n",
       "      <td>17046.352089</td>\n",
       "      <td>18.000339</td>\n",
       "    </tr>\n",
       "    <tr>\n",
       "      <th>1</th>\n",
       "      <td>78862.478506</td>\n",
       "      <td>9235.411557</td>\n",
       "      <td>7205.239605</td>\n",
       "      <td>19.387827</td>\n",
       "    </tr>\n",
       "  </tbody>\n",
       "</table>\n",
       "</div>"
      ],
      "text/plain": [
       "            cons_12m  cons_gas_12m  cons_last_month    pow_max\n",
       "churn                                                         \n",
       "0      167867.266550  30121.497308     17046.352089  18.000339\n",
       "1       78862.478506   9235.411557      7205.239605  19.387827"
      ]
     },
     "execution_count": 54,
     "metadata": {},
     "output_type": "execute_result"
    }
   ],
   "source": [
    "df_client.groupby(['churn'])[['cons_12m','cons_gas_12m','cons_last_month','pow_max']].mean()"
   ]
  },
  {
   "cell_type": "markdown",
   "id": "6cf83972",
   "metadata": {},
   "source": [
    "##### The mean consumption of gas and power who are churning were lower.\n",
    "##### Very Small Consumers Might be Leaving"
   ]
  },
  {
   "cell_type": "code",
   "execution_count": 53,
   "id": "a50d538e",
   "metadata": {},
   "outputs": [
    {
     "data": {
      "image/png": "[encoded data removed]",
      "text/plain": [
       "<Figure size 1080x288 with 2 Axes>"
      ]
     },
     "metadata": {
      "needs_background": "light"
     },
     "output_type": "display_data"
    },
    {
     "data": {
      "image/png": "[encoded data removed]",
      "text/plain": [
       "<Figure size 1080x288 with 2 Axes>"
      ]
     },
     "metadata": {
      "needs_background": "light"
     },
     "output_type": "display_data"
    },
    {
     "data": {
      "image/png": "[encoded data removed]",
      "text/plain": [
       "<Figure size 1080x288 with 2 Axes>"
      ]
     },
     "metadata": {
      "needs_background": "light"
     },
     "output_type": "display_data"
    }
   ],
   "source": [
    "for i in ['cons_12m','cons_gas_12m','cons_last_month']:\n",
    "    fig, (ax1,ax2) = plt.subplots(1,2,figsize=(15, 4))\n",
    "    df_client[df_client['churn']==0][i].plot(kind='hist', bins=50, ax=ax1)\n",
    "    df_client[df_client['churn']==1][i].plot(kind='hist', bins=50, ax=ax2)"
   ]
  },
  {
   "cell_type": "markdown",
   "id": "29626558",
   "metadata": {},
   "source": [
    "#### There is not much of clear distinction based on power consumption, We might just say that the highest power consumptions might not churn"
   ]
  },
  {
   "cell_type": "code",
   "execution_count": 55,
   "id": "573d8f86",
   "metadata": {},
   "outputs": [
    {
     "data": {
      "text/html": [
       "<div>\n",
       "<style scoped>\n",
       "    .dataframe tbody tr th:only-of-type {\n",
       "        vertical-align: middle;\n",
       "    }\n",
       "\n",
       "    .dataframe tbody tr th {\n",
       "        vertical-align: top;\n",
       "    }\n",
       "\n",
       "    .dataframe thead th {\n",
       "        text-align: right;\n",
       "    }\n",
       "</style>\n",
       "<table border=\"1\" class=\"dataframe\">\n",
       "  <thead>\n",
       "    <tr style=\"text-align: right;\">\n",
       "      <th></th>\n",
       "      <th>forecast_cons_12m</th>\n",
       "      <th>forecast_cons_year</th>\n",
       "      <th>forecast_discount_energy</th>\n",
       "      <th>forecast_meter_rent_12m</th>\n",
       "      <th>forecast_price_energy_off_peak</th>\n",
       "      <th>forecast_price_energy_peak</th>\n",
       "      <th>forecast_price_pow_off_peak</th>\n",
       "    </tr>\n",
       "    <tr>\n",
       "      <th>churn</th>\n",
       "      <th></th>\n",
       "      <th></th>\n",
       "      <th></th>\n",
       "      <th></th>\n",
       "      <th></th>\n",
       "      <th></th>\n",
       "      <th></th>\n",
       "    </tr>\n",
       "  </thead>\n",
       "  <tbody>\n",
       "    <tr>\n",
       "      <th>0</th>\n",
       "      <td>1858.473333</td>\n",
       "      <td>1402.487601</td>\n",
       "      <td>0.938197</td>\n",
       "      <td>62.126588</td>\n",
       "      <td>0.137371</td>\n",
       "      <td>0.050019</td>\n",
       "      <td>43.108310</td>\n",
       "    </tr>\n",
       "    <tr>\n",
       "      <th>1</th>\n",
       "      <td>1962.861938</td>\n",
       "      <td>1374.441860</td>\n",
       "      <td>1.231853</td>\n",
       "      <td>72.010937</td>\n",
       "      <td>0.136470</td>\n",
       "      <td>0.054873</td>\n",
       "      <td>43.332143</td>\n",
       "    </tr>\n",
       "  </tbody>\n",
       "</table>\n",
       "</div>"
      ],
      "text/plain": [
       "       forecast_cons_12m  forecast_cons_year  forecast_discount_energy  \\\n",
       "churn                                                                    \n",
       "0            1858.473333         1402.487601                  0.938197   \n",
       "1            1962.861938         1374.441860                  1.231853   \n",
       "\n",
       "       forecast_meter_rent_12m  forecast_price_energy_off_peak  \\\n",
       "churn                                                            \n",
       "0                    62.126588                        0.137371   \n",
       "1                    72.010937                        0.136470   \n",
       "\n",
       "       forecast_price_energy_peak  forecast_price_pow_off_peak  \n",
       "churn                                                           \n",
       "0                        0.050019                    43.108310  \n",
       "1                        0.054873                    43.332143  "
      ]
     },
     "execution_count": 55,
     "metadata": {},
     "output_type": "execute_result"
    }
   ],
   "source": [
    "df_client.groupby(['churn'])[['forecast_cons_12m', 'forecast_cons_year', 'forecast_discount_energy',\n",
    "       'forecast_meter_rent_12m', 'forecast_price_energy_off_peak',\n",
    "       'forecast_price_energy_peak', 'forecast_price_pow_off_peak']].mean()"
   ]
  },
  {
   "cell_type": "code",
   "execution_count": 56,
   "id": "4a32f36f",
   "metadata": {
    "scrolled": false
   },
   "outputs": [
    {
     "data": {
      "image/png": "[encoded data removed]",
      "text/plain": [
       "<Figure size 1080x288 with 2 Axes>"
      ]
     },
     "metadata": {
      "needs_background": "light"
     },
     "output_type": "display_data"
    },
    {
     "data": {
      "image/png": "[encoded data removed]",
      "text/plain": [
       "<Figure size 1080x288 with 2 Axes>"
      ]
     },
     "metadata": {
      "needs_background": "light"
     },
     "output_type": "display_data"
    },
    {
     "data": {
      "image/png": "[encoded data removed]",
      "text/plain": [
       "<Figure size 1080x288 with 2 Axes>"
      ]
     },
     "metadata": {
      "needs_background": "light"
     },
     "output_type": "display_data"
    },
    {
     "data": {
      "image/png": "[encoded data removed]",
      "text/plain": [
       "<Figure size 1080x288 with 2 Axes>"
      ]
     },
     "metadata": {
      "needs_background": "light"
     },
     "output_type": "display_data"
    },
    {
     "data": {
      "image/png": "[encoded data removed]",
      "text/plain": [
       "<Figure size 1080x288 with 2 Axes>"
      ]
     },
     "metadata": {
      "needs_background": "light"
     },
     "output_type": "display_data"
    },
    {
     "data": {
      "image/png": "[encoded data removed]",
      "text/plain": [
       "<Figure size 1080x288 with 2 Axes>"
      ]
     },
     "metadata": {
      "needs_background": "light"
     },
     "output_type": "display_data"
    },
    {
     "data": {
      "image/png": "[encoded data removed]",
      "text/plain": [
       "<Figure size 1080x288 with 2 Axes>"
      ]
     },
     "metadata": {
      "needs_background": "light"
     },
     "output_type": "display_data"
    }
   ],
   "source": [
    "for i in ['forecast_cons_12m', 'forecast_cons_year', 'forecast_discount_energy',\n",
    "       'forecast_meter_rent_12m', 'forecast_price_energy_off_peak',\n",
    "       'forecast_price_energy_peak', 'forecast_price_pow_off_peak']:\n",
    "    fig, (ax1,ax2) = plt.subplots(1,2,figsize=(15, 4))\n",
    "    df_client[df_client['churn']==0][i].plot(kind='hist', bins=50, ax=ax1)\n",
    "    df_client[df_client['churn']==1][i].plot(kind='hist', bins=50, ax=ax2)"
   ]
  },
  {
   "cell_type": "code",
   "execution_count": 72,
   "id": "52bf39ef",
   "metadata": {},
   "outputs": [
    {
     "data": {
      "text/plain": [
       "churn  origin_up                       \n",
       "0      MISSING                               60\n",
       "       ewxeelcelemmiwuafmddpobolfuxioce       1\n",
       "       kamkkxfxxuwbdslkwifmmcsiusiuosws    4036\n",
       "       ldkssxwpmemidmecebumciepifcamkci    2884\n",
       "       lxidpiddsbxsbosboudacockeimpuepw    6204\n",
       "       usapbepcfoloekilkwsdiboslwaxobdp       2\n",
       "1      MISSING                                4\n",
       "       kamkkxfxxuwbdslkwifmmcsiusiuosws     258\n",
       "       ldkssxwpmemidmecebumciepifcamkci     264\n",
       "       lxidpiddsbxsbosboudacockeimpuepw     893\n",
       "Name: id, dtype: int64"
      ]
     },
     "execution_count": 72,
     "metadata": {},
     "output_type": "execute_result"
    }
   ],
   "source": [
    "df_client.groupby(['churn','origin_up'])['id'].count()"
   ]
  },
  {
   "cell_type": "code",
   "execution_count": 64,
   "id": "5ea20e3c",
   "metadata": {},
   "outputs": [
    {
     "data": {
      "text/plain": [
       "churn\n",
       "0    5.037006\n",
       "1    4.633545\n",
       "Name: num_years_antig, dtype: float64"
      ]
     },
     "execution_count": 64,
     "metadata": {},
     "output_type": "execute_result"
    }
   ],
   "source": [
    "df_client.groupby(['churn'])['num_years_antig'].mean()"
   ]
  },
  {
   "cell_type": "code",
   "execution_count": 66,
   "id": "d89088dc",
   "metadata": {},
   "outputs": [
    {
     "data": {
      "text/plain": [
       "<AxesSubplot:ylabel='Frequency'>"
      ]
     },
     "execution_count": 66,
     "metadata": {},
     "output_type": "execute_result"
    },
    {
     "data": {
      "image/png": "[encoded data removed]",
      "text/plain": [
       "<Figure size 1080x288 with 2 Axes>"
      ]
     },
     "metadata": {
      "needs_background": "light"
     },
     "output_type": "display_data"
    }
   ],
   "source": [
    "fig, (ax1,ax2) = plt.subplots(1,2,figsize=(15, 4))\n",
    "df_client[df_client['churn']==0]['num_years_antig'].plot(kind='hist', bins=50, ax=ax1)\n",
    "df_client[df_client['churn']==1]['num_years_antig'].plot(kind='hist', bins=50, ax=ax2)"
   ]
  },
  {
   "cell_type": "markdown",
   "id": "7131fa1c",
   "metadata": {},
   "source": [
    "##### Relatively newer customers are churning"
   ]
  },
  {
   "cell_type": "code",
   "execution_count": 67,
   "id": "94795c98",
   "metadata": {},
   "outputs": [
    {
     "data": {
      "text/html": [
       "<div>\n",
       "<style scoped>\n",
       "    .dataframe tbody tr th:only-of-type {\n",
       "        vertical-align: middle;\n",
       "    }\n",
       "\n",
       "    .dataframe tbody tr th {\n",
       "        vertical-align: top;\n",
       "    }\n",
       "\n",
       "    .dataframe thead th {\n",
       "        text-align: right;\n",
       "    }\n",
       "</style>\n",
       "<table border=\"1\" class=\"dataframe\">\n",
       "  <thead>\n",
       "    <tr style=\"text-align: right;\">\n",
       "      <th></th>\n",
       "      <th>margin_gross_pow_ele</th>\n",
       "      <th>margin_net_pow_ele</th>\n",
       "      <th>nb_prod_act</th>\n",
       "      <th>net_margin</th>\n",
       "    </tr>\n",
       "    <tr>\n",
       "      <th>churn</th>\n",
       "      <th></th>\n",
       "      <th></th>\n",
       "      <th></th>\n",
       "      <th></th>\n",
       "    </tr>\n",
       "  </thead>\n",
       "  <tbody>\n",
       "    <tr>\n",
       "      <th>0</th>\n",
       "      <td>23.929863</td>\n",
       "      <td>23.926979</td>\n",
       "      <td>1.295822</td>\n",
       "      <td>185.057407</td>\n",
       "    </tr>\n",
       "    <tr>\n",
       "      <th>1</th>\n",
       "      <td>30.468682</td>\n",
       "      <td>30.468682</td>\n",
       "      <td>1.260042</td>\n",
       "      <td>228.361938</td>\n",
       "    </tr>\n",
       "  </tbody>\n",
       "</table>\n",
       "</div>"
      ],
      "text/plain": [
       "       margin_gross_pow_ele  margin_net_pow_ele  nb_prod_act  net_margin\n",
       "churn                                                                   \n",
       "0                 23.929863           23.926979     1.295822  185.057407\n",
       "1                 30.468682           30.468682     1.260042  228.361938"
      ]
     },
     "execution_count": 67,
     "metadata": {},
     "output_type": "execute_result"
    }
   ],
   "source": [
    "df_client.groupby(['churn'])[['margin_gross_pow_ele', 'margin_net_pow_ele', 'nb_prod_act',\n",
    "       'net_margin']].mean()"
   ]
  },
  {
   "cell_type": "markdown",
   "id": "7ba2c342",
   "metadata": {},
   "source": [
    "##### As the margins are bit higher compared to the products used for the churning customers we could say that the churned customers are priced higher"
   ]
  },
  {
   "cell_type": "code",
   "execution_count": 62,
   "id": "3bed8a56",
   "metadata": {},
   "outputs": [
    {
     "data": {
      "image/png": "[encoded data removed]",
      "text/plain": [
       "<Figure size 1080x288 with 2 Axes>"
      ]
     },
     "metadata": {
      "needs_background": "light"
     },
     "output_type": "display_data"
    },
    {
     "data": {
      "image/png": "[encoded data removed]",
      "text/plain": [
       "<Figure size 1080x288 with 2 Axes>"
      ]
     },
     "metadata": {
      "needs_background": "light"
     },
     "output_type": "display_data"
    },
    {
     "data": {
      "image/png": "[encoded data removed]",
      "text/plain": [
       "<Figure size 1080x288 with 2 Axes>"
      ]
     },
     "metadata": {
      "needs_background": "light"
     },
     "output_type": "display_data"
    },
    {
     "data": {
      "image/png": "[encoded data removed]",
      "text/plain": [
       "<Figure size 1080x288 with 2 Axes>"
      ]
     },
     "metadata": {
      "needs_background": "light"
     },
     "output_type": "display_data"
    }
   ],
   "source": [
    "for i in ['margin_gross_pow_ele', 'margin_net_pow_ele', 'nb_prod_act',\n",
    "       'net_margin']:\n",
    "    fig, (ax1,ax2) = plt.subplots(1,2,figsize=(15, 4))\n",
    "    df_client[df_client['churn']==0][i].plot(kind='hist', bins=50, ax=ax1)\n",
    "    df_client[df_client['churn']==1][i].plot(kind='hist', bins=50, ax=ax2)"
   ]
  },
  {
   "cell_type": "code",
   "execution_count": 74,
   "id": "78640de6",
   "metadata": {
    "scrolled": true
   },
   "outputs": [
    {
     "data": {
      "text/plain": [
       "id                    0\n",
       "price_date            0\n",
       "price_off_peak_var    0\n",
       "price_peak_var        0\n",
       "price_mid_peak_var    0\n",
       "price_off_peak_fix    0\n",
       "price_peak_fix        0\n",
       "price_mid_peak_fix    0\n",
       "dtype: int64"
      ]
     },
     "execution_count": 74,
     "metadata": {},
     "output_type": "execute_result"
    }
   ],
   "source": [
    "df_price.isna().sum()"
   ]
  },
  {
   "cell_type": "code",
   "execution_count": 78,
   "id": "87a56632",
   "metadata": {},
   "outputs": [
    {
     "data": {
      "text/plain": [
       "Index(['id', 'price_date', 'price_off_peak_var', 'price_peak_var',\n",
       "       'price_mid_peak_var', 'price_off_peak_fix', 'price_peak_fix',\n",
       "       'price_mid_peak_fix'],\n",
       "      dtype='object')"
      ]
     },
     "execution_count": 78,
     "metadata": {},
     "output_type": "execute_result"
    }
   ],
   "source": [
    "df_price.columns"
   ]
  },
  {
   "cell_type": "code",
   "execution_count": 80,
   "id": "8950eaa0",
   "metadata": {},
   "outputs": [],
   "source": [
    "churn_ids = df_client[df_client['churn']==1]['id'].to_list()\n",
    "retained_ids =  df_client[df_client['churn']==0]['id'].to_list()\n",
    "df_price['churned']=df_price['id'].apply(lambda x: 1 if x in churn_ids else 0)"
   ]
  },
  {
   "cell_type": "code",
   "execution_count": 85,
   "id": "6795a730",
   "metadata": {},
   "outputs": [
    {
     "data": {
      "text/html": [
       "<div>\n",
       "<style scoped>\n",
       "    .dataframe tbody tr th:only-of-type {\n",
       "        vertical-align: middle;\n",
       "    }\n",
       "\n",
       "    .dataframe tbody tr th {\n",
       "        vertical-align: top;\n",
       "    }\n",
       "\n",
       "    .dataframe thead th {\n",
       "        text-align: right;\n",
       "    }\n",
       "</style>\n",
       "<table border=\"1\" class=\"dataframe\">\n",
       "  <thead>\n",
       "    <tr style=\"text-align: right;\">\n",
       "      <th></th>\n",
       "      <th>price_off_peak_var</th>\n",
       "      <th>price_peak_var</th>\n",
       "      <th>price_mid_peak_var</th>\n",
       "      <th>price_off_peak_fix</th>\n",
       "      <th>price_peak_fix</th>\n",
       "      <th>price_mid_peak_fix</th>\n",
       "    </tr>\n",
       "    <tr>\n",
       "      <th>churned</th>\n",
       "      <th></th>\n",
       "      <th></th>\n",
       "      <th></th>\n",
       "      <th></th>\n",
       "      <th></th>\n",
       "      <th></th>\n",
       "    </tr>\n",
       "  </thead>\n",
       "  <tbody>\n",
       "    <tr>\n",
       "      <th>0</th>\n",
       "      <td>0.140943</td>\n",
       "      <td>0.054445</td>\n",
       "      <td>0.030221</td>\n",
       "      <td>43.350991</td>\n",
       "      <td>10.567833</td>\n",
       "      <td>6.337841</td>\n",
       "    </tr>\n",
       "    <tr>\n",
       "      <th>1</th>\n",
       "      <td>0.141898</td>\n",
       "      <td>0.056554</td>\n",
       "      <td>0.033343</td>\n",
       "      <td>43.163536</td>\n",
       "      <td>11.192617</td>\n",
       "      <td>7.156747</td>\n",
       "    </tr>\n",
       "  </tbody>\n",
       "</table>\n",
       "</div>"
      ],
      "text/plain": [
       "         price_off_peak_var  price_peak_var  price_mid_peak_var  \\\n",
       "churned                                                           \n",
       "0                  0.140943        0.054445            0.030221   \n",
       "1                  0.141898        0.056554            0.033343   \n",
       "\n",
       "         price_off_peak_fix  price_peak_fix  price_mid_peak_fix  \n",
       "churned                                                          \n",
       "0                 43.350991       10.567833            6.337841  \n",
       "1                 43.163536       11.192617            7.156747  "
      ]
     },
     "execution_count": 85,
     "metadata": {},
     "output_type": "execute_result"
    }
   ],
   "source": [
    "df_price.groupby(['churned'])[['price_date', 'price_off_peak_var', 'price_peak_var',\n",
    "       'price_mid_peak_var', 'price_off_peak_fix', 'price_peak_fix',\n",
    "       'price_mid_peak_fix']].mean()"
   ]
  },
  {
   "cell_type": "markdown",
   "id": "cc979c7d",
   "metadata": {},
   "source": [
    "#### There is clear price difference between the churned and retained customers\n",
    "#### Lets see if the difference is statistically significant"
   ]
  },
  {
   "cell_type": "markdown",
   "id": "25b3f0d9",
   "metadata": {},
   "source": [
    "### Hypothesis: Price has the impact on customers \n",
    "#### Null Hypothesis: Mean price of the customers churned and retained are same\n",
    "#### Alternate Hypothesis: Mean price of the customers churned and reatined are different"
   ]
  },
  {
   "cell_type": "markdown",
   "id": "9a7b2d21",
   "metadata": {},
   "source": [
    "##### significance value would be 0.1"
   ]
  },
  {
   "cell_type": "markdown",
   "id": "534d8a84",
   "metadata": {},
   "source": [
    "#### Assumptions: \n",
    "1. Fixed and Variable price sum have same effect on customers\n",
    "2. Price over the last 12 months had same effect on customers\n",
    "\n",
    "Above assumptions to reduce the number of tests"
   ]
  },
  {
   "cell_type": "code",
   "execution_count": 93,
   "id": "4babd691",
   "metadata": {},
   "outputs": [],
   "source": [
    "df_hyp = df_price.groupby(['id','churned'])[['price_date', 'price_off_peak_var', 'price_peak_var',\n",
    "       'price_mid_peak_var', 'price_off_peak_fix', 'price_peak_fix',\n",
    "       'price_mid_peak_fix']].mean().reset_index()"
   ]
  },
  {
   "cell_type": "code",
   "execution_count": 95,
   "id": "be33d761",
   "metadata": {},
   "outputs": [],
   "source": [
    "df_hyp['price_off_peak'] = df_hyp['price_off_peak_var'] +df_hyp['price_off_peak_fix']\n",
    "df_hyp['price_peak'] = df_hyp['price_peak_var'] +df_hyp['price_peak_fix']\n",
    "df_hyp['price_mid_peak'] = df_hyp['price_mid_peak_var'] +df_hyp['price_mid_peak_var']"
   ]
  },
  {
   "cell_type": "markdown",
   "id": "1dec8e92",
   "metadata": {},
   "source": [
    "### Normality Test"
   ]
  },
  {
   "cell_type": "code",
   "execution_count": 114,
   "id": "9e2ca6e9",
   "metadata": {},
   "outputs": [
    {
     "name": "stdout",
     "output_type": "stream",
     "text": [
      "p-value for price_off_peak:0.00e+00\n",
      "p-value for price_peak:0.00e+00\n",
      "p-value for price_mid_peak:0.00e+00\n"
     ]
    }
   ],
   "source": [
    "for i in ['price_off_peak', 'price_peak', 'price_mid_peak']:\n",
    "    statistic, p_value = kstest(df_hyp[df_hyp['churned']==0][i], 'norm')\n",
    "    print('p-value for {}:{:.2e}'.format(i, p_value))"
   ]
  },
  {
   "cell_type": "code",
   "execution_count": 115,
   "id": "68e86888",
   "metadata": {},
   "outputs": [
    {
     "name": "stdout",
     "output_type": "stream",
     "text": [
      "p-value for price_off_peak:0.00e+00\n",
      "p-value for price_peak:0.00e+00\n",
      "p-value for price_mid_peak:0.00e+00\n"
     ]
    }
   ],
   "source": [
    "for i in ['price_off_peak', 'price_peak', 'price_mid_peak']:\n",
    "    statistic, p_value = kstest(df_hyp[df_hyp['churned']==1][i], 'norm')\n",
    "    print('p-value for {}:{:.2e}'.format(i, p_value))"
   ]
  },
  {
   "cell_type": "code",
   "execution_count": 124,
   "id": "937e548d",
   "metadata": {},
   "outputs": [
    {
     "name": "stdout",
     "output_type": "stream",
     "text": [
      "p-value for price_off_peak:0.00e+00\n",
      "p-value for price_peak:0.00e+00\n",
      "p-value for price_mid_peak:0.00e+00\n"
     ]
    }
   ],
   "source": [
    "for i in ['price_off_peak', 'price_peak', 'price_mid_peak']:\n",
    "    statistic, p_value = kstest(df_hyp[i], 'norm')\n",
    "    print('p-value for {}:{:.2e}'.format(i, p_value))"
   ]
  },
  {
   "cell_type": "markdown",
   "id": "027fa035",
   "metadata": {},
   "source": [
    "#### Although the plots and tests are contradicting, for simplicity lets assume they are in normality"
   ]
  },
  {
   "cell_type": "code",
   "execution_count": 127,
   "id": "b58cdfea",
   "metadata": {},
   "outputs": [
    {
     "name": "stdout",
     "output_type": "stream",
     "text": [
      "p-value for price_off_peak:0.20506921242178672\n",
      "p-value for price_peak:0.07727773540125923\n",
      "p-value for price_mid_peak:0.0017800669300907825\n"
     ]
    }
   ],
   "source": [
    "for i in ['price_off_peak', 'price_peak', 'price_mid_peak']:\n",
    "    t_statistic, p_value = ttest_ind(df_hyp[df_hyp['churned']==1][i], df_hyp[df_hyp['churned']==0][i])\n",
    "    print('p-value for {}:{}'.format(i, p_value))"
   ]
  },
  {
   "cell_type": "markdown",
   "id": "ab112236",
   "metadata": {},
   "source": [
    "#### At significance value of 0.1 we could reject the null hypothesis that the mean prices of peak and mid peak for customers who are churned and retained"
   ]
  }
 ],
 "metadata": {
  "kernelspec": {
   "display_name": "Python 3 (ipykernel)",
   "language": "python",
   "name": "python3"
  },
  "language_info": {
   "codemirror_mode": {
    "name": "ipython",
    "version": 3
   },
   "file_extension": ".py",
   "mimetype": "text/x-python",
   "name": "python",
   "nbconvert_exporter": "python",
   "pygments_lexer": "ipython3",
   "version": "3.9.12"
  }
 },
 "nbformat": 4,
 "nbformat_minor": 5
}
